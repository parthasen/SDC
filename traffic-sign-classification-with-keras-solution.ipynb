// list 0: SPY, index based trading both momentum and reversion
//list 1:any index other than SPY
// list 2:3x OIL when oil is in trend, so only momentum strategy
// lis 3:3x index 
//list 4: sector specific stocks in trend momentum strategy
//list5: Stocks bullish

OptimizerSetEngine("cmae"); // you can also use "spso" or "trib" here
_SECTION_BEGIN("Trading Set up");
//Filename = _DEFAULT_NAME();
SubmitOrders = True; 
Tracing = False;    
MarketON=093000;
US_Trade_On=TimeNum() >= 094000 AND TimeNum() <=153000;
positionclear=TimeNum() >=155500 AND Now( 4 )<=160000;

printf("US_Trade_On:"+"\t"+US_Trade_On+"\n");
//printf("last 5 min:"+"\t"+positionclear+"\n");
ABName="SPY";
		//IBName =Name();//getfndata("Alias");
// target profit is set +0.10 from buy/short point 
		//target_pro=1.001;//Optimize("target_profit",1.0005,1.0003,1.01,0.0005 );
Bars_so_far_today = 1 + BarsSince( Day() != Ref(Day(), -1));
printf("Bars already for today:"+"\t"+Bars_so_far_today+"\n");
		
_SECTION_END();

_SECTION_BEGIN("SPY-Variables");
//sentiment_SPY=ParamList("sentiment", "N|NeU|P", 1);
//rating_SPY=ParamList("rating", "Z|O|TW|TH|F", 2);
//manualON_SPY_P=ParamList("manual on SPY", "0|1", 0);
//MOM_RAN=ParamList("Momentum or Range", "0|1", 0); // range will be output from daily analysis. 


SetForeign(ABName);
O_SPY = O;
H_SPY = H;
L_SPY = L;
C_SPY = C;
v_SPY = IIf(V>0,Volume,1);
//SP_SPY=O_SPY[ValueWhen(TimeNum()==094000) AND ValueWhen(DateNum()==1170104)];
SP_SPY=ValueWhen(Bars_so_far_today==3525,O);
RestorePriceArrays();

// # weekly High OR Low is range. SL OR profit target above this point. if price in this range then RANGE 
L_W_SPY=TimeFrameGetPrice( "L", inWeekly, -1 ); 
H_W_SPY=TimeFrameGetPrice( "H", inWeekly, -1 ); 
// # price above Yesterday closing is TRADING ON for long and triger of short sell  
C_YDay_SPY = TimeFrameGetPrice("C_SPY", inDaily, -1); // yesterdays close https://www.amibroker.com/guide/h_timeframe.html
O_Day_SPY = TimeFrameGetPrice("O_SPY", inDaily, -1); // yesterdays close https://www.amibroker.com/guide/h_timeframe.html
C_5Min_SPY=TimeFrameGetPrice("C_SPY", in5minute, -1);// TimeFrameExpand( ma5_13, in5Minute)
C_hour_SPY=TimeFrameGetPrice("C_SPY",inHourly, -1);// TimeFrameExpand( ma5_13, in5Minute)
L_5Min_SPY=TimeFrameGetPrice("L_SPY",in5minute, -1);// TimeFrameExpand( ma5_13, in5Minute)
H_5min_SPY=TimeFrameGetPrice("H_SPY",in5minute,-1);
H_Min_SPY=TimeFrameGetPrice("H_SPY", in1minute, -1);// TimeFrameExpand( ma5_13, in5Minute)
C_Min_SPY=TimeFrameGetPrice("C_SPY", in1minute, -1);// TimeFrameExpand( ma5_13, in5Minute)
_SECTION_END();

_SECTION_BEGIN("OPTIMIZATION"); //##//SPY//
//inv_SPY=Optimize("investment",45000,30000,60000,1000 );
_SECTION_END();

_SECTION_BEGIN("SPY STRATEGY");//HEDGING by SPXL,SPXU,SPXS 2000K amount for 23 SPY ( approximation)

// SENSE(predict),THINK,ACT-->REWARD. Reinforcement Learning
//1. State of Market: NS,JS. If SPY between UL and LL then NS. If Above UL then jumped up and if below LL then jumped down. 
	// Market moves reveresed back from JS to NS. PREDICT: 1. NS,JS 2.Reversion time. Need to use ML with NEWS/Sentiment feature
	// If Change state is predicted, JS ==1 and reversion time more than 1 day then Momentum  Strategy
	// If NS==1 and reversion time less or equal 1 then mean reversion
	 
//2. SENSE: Active,[NS,JS],Reversion Time 
	//THINK: Hedging,Trading, based on reward Sense was right/wrong(backpropagation)?,barsince B/SS >60 UP/DN to stop trading, and angle stiff/normal
	// ACT: Buy,Short Sell,Further Buy or Short sell.[SPY,SPXL,SPXS],change based on backpropagation,stop trading if angle and barsice against


	// Feature generation		
	//#PIVOTS to get ACTIVE,TRADE/TREND,JU/JD situation
price=(Ref(H_SPY,-1)+Ref(L_SPY,-1)+Ref(C_SPY,-1))/3;
R1=price*2-Ref(L_SPY,-1);
R2=price+(Ref(H_SPY,-1)-Ref(L_SPY,-1));
S1=price*2-Ref(H_SPY,-1);
S2=price-(Ref(H_SPY,-1)-Ref(L_SPY,-1));
//#tigger line TR
totalVolume = Sum(Ref(v_SPY,-1),12);
VWAP = Sum (price *Ref(v_SPY,-1),12) /totalVolume;
	//#retracement 24%,38%,50%,62% and 124%. NEED to optimize
R3=VWAP+(HHV(H_SPY,360)-LLV(L_SPY,360))*0.01;
S3=VWAP-(HHV(H_SPY,360)-LLV(L_SPY,360))*0.01;


			//##SENSEing the market situation [[[1]]]
			//##ACTIVE market ==ACTV_B for buy and ACTV_SS for sell short
//NEED to optimize
ACTV_B =v_SPY>70 AND v_SPY>MA(v_SPY,50);
ACTV_SS =v_SPY>70 AND  v_SPY>MA(v_SPY,50);

	
				//## UP trend or DOWN trend [UT,DT] [[[[2]]]
//0.02 <- NEED to optimize
UT=(MA(Max(R3,R2),30) + (Ref(MA(VWAP,30),-1)+(HHV(H_SPY,12)-LLV(L_SPY,12))*0.50))/2+0.02;
DT=(MA(Min(S3,S2),30) + (Ref(MA(VWAP,30),-1)-(HHV(H_SPY,12)-LLV(L_SPY,12))*0.50))/2 -0.02;

//angle
pi=4*atan(1);
RTD=180/pi;
A_UT=LinRegSlope(UT,5);
A_DT=LinRegSlope(DT,5);
A_S_UT=Sum(A_UT,12); // sum for last 5 min
A_S_DT=Sum(A_DT,12); // sum for last 5 min




printf("UT angle %g\n",A_UT*RTD);//<0.05
printf("DT angle %g\n",A_DT*RTD);//>-0.06
printf("sum UT angle %g\n",A_S_UT*RTD);//
printf("sum DT angle %g\n",A_S_DT*RTD);//




				//JUMP State [[3]]	
				//Jump up above UL ==JU and Jump down below LL=JD. Trade zone =t_zone, when market between UL and LL.
				// Trade Zone==t_zone and jump zone==j_zone
				//#Jump up or Jump dn [10%,80%,10%]
		        //## Based market situation
//##we can SENSE [NS,JS] normal or JS state.[-1,0,+1]
	// zone =ZN
	// NS==0,TS=[1,-1]
	// Both cases market should me active 
// CAUTION manual input from premarket or prediction. LOGIC: First candle price +0.5 is UL and -0.5 is LL.
// NEED to optimize 0.5 or ??
		//SP_SPY if untrend market,
		//Peak(O_SPY,0.007,1)<Peak(O_SPY,0.007,1) Dn market
		//Trough(O_SPY,0.007,1)>Trough(O_SPY,0.007,2) up market
// Deceisive part. NL at middle, UP or down. !!!
NL=227.10;//SP_SPY;
UL=NL+0.6;
LL=NL-0.6;
//MarketON and

OSZ=300;//Param("order size",100,50,200);//LastValue(inv_SPY/C_SPY);
			//ACT==signal
			// Buy Classification(BC): (1) ACTV_B==1 (2) O_SPY<DT (3) DT>LL and DT<NL (4) Angle of DT not stiff
			// Short Sell Classification: (1) ACTV_SS==1 (2) O_SPY>UT (3) UT>NL and UT<UL (4) angle of UT not stiff
			// (1)DT<LL and (2) stiff angle leads to SPXS buy(2000). Assumed long position of SPY (OSZ)
			// (2) UT>UL and (2) stiff angle leads to SPXL buy(100). Assumed short position of SPY (-OSZ)

//Velocity
Bars_since_5min = 1 + BarsSince(Cross(O_SPY,DT));
printf("bars for last 5 min %g\n",Bars_since_5min);//


//ACTV not in use now
BC=ACTV_B AND O_SPY<DT AND DT>LL AND  DT<NL AND A_DT*RTD>-0.05;
SSC=ACTV_SS AND  O_SPY>UT AND UT>NL AND UT<UL AND A_UT*RTD<0.05;

printf("B class %g\n",BC);
printf("SS class %g\n",SSC);
printf("NL %g\n",O_Day_SPY);


_SECTION_END();  



_SECTION_BEGIN("IBC variables");//HEDGING by SPXL,SPXU,SPXS 2000K amount for 23 SPY ( approximation)
ibc = GetTradingInterface("IB");
averageprice=ibc.GetPositionInfo(ABName, "Avg. cost");
IBPosSize = ibc.GetPositionSize(ABName);
printf("average price:"+"\t"+averageprice+"\n");
printf("position list:"+"\t"+IBPosSize+"\n");


fund=ibc.GetAccountValue("[CAD]ExcessLiquidity");
if (fund=="")
    excessfund = 0;
else
   excessfund = StrToNum(fund);  

 AccountCutout =excessfund<10000; 
 LastOrderID = StaticVarGetText("OrderID"+ABName);
 ORderStatus="";
//printf("excessfund:"+"\t"+fund+"\n");

_SECTION_END();	
	

_SECTION_BEGIN("SIGNAL");
//#1 ROC for mean reversion
spyROC=Sum(ROC(price,3),20);// change for 15 sec in 5 min window
//# price and VWAP difference
spread=Sum(price-VWAP,60);

			//####MOMENTUM ==MM will be implemented after developed sentiment analysis 
//Mean Reversion
MR_buy=(spread<-0.4 OR spyROC<-0.06 OR Cross(O_SPY,MA(O_SPY,3))) AND BC;
MR_short=(spread>0.4 OR spyROC>0.06  OR Cross(MA(O_SPY,3),O_SPY)) AND SSC;


// When SPY is above/below the open price ( XXXOP) by 1.5( use data science)  then change os state
// momentum and MR with ROC and spread at range 
//#momentum indicator based


//Signal gap== 2min and buy signal should below previous sell price or SS should be above last cover price
//bi = BarIndex();
//arrayitem = SelectedValue( bi ) - bi[ 0 ]; 
//"Close at selected bar:" + C_SPY[ arrayitem ];


buy_SPY= MR_buy AND InWatchList(0);
short_SPY=MR_short AND InWatchList(0);
sell_SPY=O_SPY>DT+0.1 AND O_SPY>O_SPY[lastValue(BarIndex()) - lastvalue(barssince(Buy_SPY==1))]+0.1 AND InWatchList(0) AND IBPosSize>0 AND O_SPY>averageprice+0.1;
Cover_SPY=O_SPY<UT-0.1 AND O_SPY<O_SPY[SelectedValue(BarIndex()) - LastValue(barssince(Short_SPY==1))]-0.1 AND  InWatchList(0) AND IBPosSize<0 AND O_SPY<averageprice-0.1;
//list three for rated 5 stocks
//list four stocks are technical based for both buy or sell

//Acount cutout not included AND AccountCutout==1
//AND US_Trade_On
Buy=buy_SPY;//list 0 with single lev ETF for mean reversion and list 1 with x3 liv ETFs for contra
Short=short_SPY;
/// both sell and cover should with position >0
sell=sell_SPY;
cover=Cover_SPY;


//Buy=ExRem(Buy,Sell);
//sell=ExRem(Sell,Buy);
//short=ExRem(Short,cover);
//cover=ExRem(cover,Short);

LastBuy = LastValue(Buy);
LastShort = LastValue(Short);
LastSell = LastValue(Sell);
LastCover = LastValue(Cover);

e = Equity(1,0);
start = ParamDate( "Start Date", "2016-04-01" );
end=ParamDate("End Date", "2017-12-31" );
Lprofit = e - ValueWhen( Buy, e); 
Sprofit = e - ValueWhen( Short, e); 

BP= LastBuy;
SHP=LastShort ;
SP= LastSell;//list two for stocks, stop loss only for stocks 
CP= LastCover;
	//size=IIf( (LastBuy OR  LastShort),OSZ,abs(OSZ)); 
_SECTION_END();

_SECTION_BEGIN("PLOT"); 
Plot(O_SPY, "Open", IIf( Flip(Buy_SPY,Short_SPY), colorLightBlue,  colorLightGrey), styleline);
Plot(UT,"up trend",colorGrey40,styleDashed);
Plot(DT,"Dn trend",colorGrey40,styleDashed);
Plot(UL,"Jump_UP",colorLightYellow,styleline);
Plot(LL,"Jump_DN",colorLightYellow,styleLine);
PlotShapes(IIf(buy_SPY, shapeHollowCircle, shapeNone),colorGreen,1,L, Offset=-2);
PlotShapes(IIf(short_SPY,shapeCircle, shapeNone),colorRed, 1, H, Offset=2);
//Plot(spread,"SPREAD",colorlightBlue,styleLeftAxisScale);
//Plot(spyROC,"avgROC",colorlightBlue,styleLeftAxisScale);

//Plot(e,"Equity",colorlightBlue,styleLeftAxisScale);
PlotShapes(IIf(cover_SPY,shapeCircle, shapeNone),colorLightGrey, 0, L, Offset=-2);
PlotShapes(IIf(sell_SPY, shapeHollowCircle, shapeNone),colorLightGrey, 0,H, Offset=2);
_SECTION_END();

_SECTION_BEGIN("AMI-IB Trigger");
ibc = GetTradingInterface("IB");
IBcStatus = ibc.IsConnected();
OrderID = StaticVarGetText("OrderID"+ABName);
if (OrderID == "" && (LastBuy || LastShort))
{
    StaticVarSetText("OrderID"+ABName,"DUMMY");
}
OrderStatus = ibc.GetStatus( OrderID , True );
if( OrderStatus != "" ) StaticVarSetText("OrderStatus"+ABName,OrderStatus);
Pending=ibc.IsOrderPending(OrderID);
//SellPending=ibc.IsOrderPending(OrderID);
printf("OrderID:"+"\t"+OrderID+"\n");
printf("OrderStatus:"+"\t"+OrderStatus+"\n");
printf("Pending:"+"\t"+Pending+"\n");

IBcStatusString = WriteIf(IBCStatus==0,"TWS Not Found",WriteIf(IBCStatus==1,"Connecting to TWS",WriteIf(IBCStatus==2,"TWS OK",WriteIf(IBCStatus==3,"TWS OK (msgs)",""))));
if ( IBcStatus==2 )
{
	ibc = GetTradingInterface("IB");
	averageprice=ibc.GetPositionInfo(ABName, "Avg. cost");
	IBPosSize = ibc.GetPositionSize(ABName);
	Min_RTS=LastValue(GetRTDataForeign("Bid",ABName))-averageprice; 
	Min_RTC=averageprice-LastValue(GetRTDataForeign("Ask",ABName));
	minSProfit=Min_RTS>0.06;
	minCProfit=Min_RTC>0.06;
	positionclearLong=  TimeNum()>=154500;//LastValue(GetRTDataForeign("Ask",Name()))<(ibc.GetPositionInfo(Name(), "Avg. cost")-0.25)  OR  TimeNum()>=154500;
	positionclearShort=  TimeNum()>=154500;//LastValue(GetRTDataForeign("Bid",Name()))>(ibc.GetPositionInfo(Name(), "Avg. cost")+0.25) OR  TimeNum()>=154500;
	BP= IBPosSize==0 AND US_Trade_On AND AccountCutout==0 AND LastBuy;
	SHP= IBPosSize==0 AND US_Trade_On AND AccountCutout==0 AND LastShort;
	furtherbuy=(IBPosSize==OSZ AND Min_RTC>0.25) OR (IBPosSize==2*OSZ AND Min_RTC>0.4);
	shortclean=(IBPosSize<=-OSZ AND Min_RTC>0.1);
	furthersell=(IBPosSize==-OSZ AND Min_RTS>0.25) OR (IBPosSize==-2*OSZ AND Min_RTS>0.4);
	longclean=(IBPosSize>=OSZ AND Min_RTS>0.1) ;
	orcov=(CP AND  minSProfit) OR shortclean OR furtherbuy OR (IBPosSize<=-OSZ AND positionclearshort==1);
	orsell=(SP AND  minSProfit) OR longclean OR furthersell OR  (IBPosSize>=OSZ AND positionclearlong==1);
	buyorcov=BP OR orcov;
	sellorshort=SHP OR orsell;

	if(LastValue(buyorcov))  //BUY

    {
		OID= ibc.PlaceOrder( ABName, "BUY",OSZ, "MKT",0, 0, "IOC", True); //size for general case
        OrderStatus = ibc.GetStatus( OID, True);
        if(OrderStatus == "Filled"){
        StaticVarSetText("OrderID"+ABName,OID);
        }

		for (dummy=0; dummy<40; dummy++) ibc.Sleep(50);  //Usually takes up to about a second for TWS to get acknowledgement from IB
        tradetime=GetPerformanceCounter()/1000; 
            while ((GetPerformanceCounter()/1000 - tradetime) <25) // give up after 25 seconds
             {
                 ibc.Reconnect();  //Refreshes ibc, and gets accurate status
                 //ORderStatus = ibc.GetStatus( OID, True);
                 if (OrderStatus == "PreSubmitted" || OrderStatus == "Submitted" || OrderStatus == "Filled")
                     break;
             }
                   

    }


    if(LastValue(sellorshort))  //SHORT SELL
    {
        OID= ibc.PlaceOrder(ABName, "SELL",OSZ, "MKT",0, 0, "IOC", True); ////size for general case
        OrderStatus = ibc.GetStatus( OID, True);
        if(OrderStatus == "Filled"){
			StaticVarSetText("OrderID"+ABName,OID);
        }
               
		for (dummy=0; dummy<40; dummy++) ibc.Sleep(50);  //Usually takes up to about a second for TWS to get acknowledgement from IB
		tradetime=GetPerformanceCounter()/1000; 
			while ((GetPerformanceCounter()/1000 - tradetime) <25) // give up after 5 seconds
			{
                 ibc.Reconnect();  //Refreshes ibc, and gets accurate status
                 //ORderStatus = ibc.GetStatus( OID, True);
                 if (OrderStatus == "PreSubmitted" || OrderStatus == "Submitted" || OrderStatus == "Filled")
                     break;
            }
        
                   

    }
ibc.ClearList(4);//error list clearing
  //Exploration
//IBcStatusString = WriteIf(IBCStatus==0,"TWS Not Found",WriteIf(IBCStatus==1,"Connecting to TWS",WriteIf(IBCStatus==2,"TWS OK",WriteIf(IBCStatus==3,"TWS OK (msgs)",""))));
//LastOrderID = StaticVarGetText("OrderID"+ABName);
//OrderStatus = ibc.GetStatus( LastOrderID , True );

if( OrderStatus != "" ) StaticVarSetText("OrderStatus"+ABName,ORderStatus);


}

Filter=(Buy OR Short OR Sell OR Cover) AND LastOrderID!="DUMMY";// AND  Status("lastbarinrange");
AddTextColumn(FullName(),"name",200);
AddColumn(Buy,"Buy",1.0);
AddColumn(Short,"Short",1.0);
AddColumn(Sell,"Sell",1.0);
AddColumn(Cover,"Cover",1.0);
AddColumn(IIf(SubmitOrders,Asc("Y"),Asc("N")),"Transmit",formatChar);
AddColumn(IIf(Buy OR Cover,Asc("L"),IIf(Short OR Sell,Asc("S"),Asc(" "))),"Buy/Sell",formatChar);
AddColumn(IIf(Buy,BuyPrice,ShortPrice),"Entry",1.2);
AddTextColumn(IBcStatusString,"IBC Status",100);

_SECTION_END();


_SECTION_BEGIN("Alert"); 

//AlertIf( Buy, "EMAIL", "Buy Alert in "+FullName()+ "@"+BuyPrice,1 );

//AlertIf( Sell, "EMAIL", "Sell Alert in "+FullName()+ "@"+SellPrice,1 );

//AlertIf( Short, "EMAIL", "Short Alert in "+FullName()+ "@"+ShortPrice,3 );

//AlertIf( Cover, "EMAIL", "Short Alert in "+FullName()+ "@"+CoverPrice,3 );

_SECTION_END();
